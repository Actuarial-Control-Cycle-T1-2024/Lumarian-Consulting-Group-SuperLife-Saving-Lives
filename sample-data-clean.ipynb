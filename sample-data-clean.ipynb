{
 "cells": [
  {
   "cell_type": "markdown",
   "id": "dbc6445c",
   "metadata": {},
   "source": [
    "# This is a sample code in jupyter notebook to clean data."
   ]
  },
  {
   "cell_type": "markdown",
   "id": "ba3eb91e",
   "metadata": {},
   "source": [
    "Import library"
   ]
  },
  {
   "cell_type": "code",
   "execution_count": 1,
   "id": "cd3b6dfc",
   "metadata": {},
   "outputs": [],
   "source": [
    "import pandas as pd\n",
    "import numpy as np\n",
    "from pathlib import Path"
   ]
  },
  {
   "cell_type": "markdown",
   "id": "63a676bc",
   "metadata": {},
   "source": [
    "Load Data"
   ]
  },
  {
   "cell_type": "code",
   "execution_count": 2,
   "id": "3437d456",
   "metadata": {},
   "outputs": [],
   "source": [
    "df = pd.read_csv(\"2024-srcsc-superlife-inforce-dataset-part1.csv\", header=3)"
   ]
  },
  {
   "cell_type": "code",
   "execution_count": 3,
   "id": "7ff936c0",
   "metadata": {},
   "outputs": [
    {
     "data": {
      "text/html": [
       "<div>\n",
       "<style scoped>\n",
       "    .dataframe tbody tr th:only-of-type {\n",
       "        vertical-align: middle;\n",
       "    }\n",
       "\n",
       "    .dataframe tbody tr th {\n",
       "        vertical-align: top;\n",
       "    }\n",
       "\n",
       "    .dataframe thead th {\n",
       "        text-align: right;\n",
       "    }\n",
       "</style>\n",
       "<table border=\"1\" class=\"dataframe\">\n",
       "  <thead>\n",
       "    <tr style=\"text-align: right;\">\n",
       "      <th></th>\n",
       "      <th>Policy.number</th>\n",
       "      <th>Policy.type</th>\n",
       "      <th>Issue.year</th>\n",
       "      <th>Issue.age</th>\n",
       "      <th>Sex</th>\n",
       "      <th>Face.amount</th>\n",
       "      <th>Smoker.Status</th>\n",
       "      <th>Underwriting.Class</th>\n",
       "      <th>Urban.vs.Rural</th>\n",
       "      <th>Region</th>\n",
       "      <th>Distribution.Channel</th>\n",
       "      <th>Death.indicator</th>\n",
       "      <th>Year.of.Death</th>\n",
       "      <th>Lapse.Indicator</th>\n",
       "      <th>Year.of.Lapse</th>\n",
       "      <th>Cause.of.Death</th>\n",
       "    </tr>\n",
       "  </thead>\n",
       "  <tbody>\n",
       "    <tr>\n",
       "      <th>0</th>\n",
       "      <td>O8FN60R4KXIS</td>\n",
       "      <td>T20</td>\n",
       "      <td>2001</td>\n",
       "      <td>54</td>\n",
       "      <td>F</td>\n",
       "      <td>100000</td>\n",
       "      <td>NS</td>\n",
       "      <td>moderate risk</td>\n",
       "      <td>Urban</td>\n",
       "      <td>1</td>\n",
       "      <td>Telemarketer</td>\n",
       "      <td>NaN</td>\n",
       "      <td>NaN</td>\n",
       "      <td>1.0</td>\n",
       "      <td>2020.0</td>\n",
       "      <td>NaN</td>\n",
       "    </tr>\n",
       "    <tr>\n",
       "      <th>1</th>\n",
       "      <td>K0JK2XD81ZNI</td>\n",
       "      <td>SPWL</td>\n",
       "      <td>2001</td>\n",
       "      <td>54</td>\n",
       "      <td>M</td>\n",
       "      <td>1000000</td>\n",
       "      <td>NS</td>\n",
       "      <td>moderate risk</td>\n",
       "      <td>Rural</td>\n",
       "      <td>6</td>\n",
       "      <td>Agent</td>\n",
       "      <td>NaN</td>\n",
       "      <td>NaN</td>\n",
       "      <td>NaN</td>\n",
       "      <td>NaN</td>\n",
       "      <td>NaN</td>\n",
       "    </tr>\n",
       "    <tr>\n",
       "      <th>2</th>\n",
       "      <td>AH3A98MHTO8H</td>\n",
       "      <td>T20</td>\n",
       "      <td>2001</td>\n",
       "      <td>27</td>\n",
       "      <td>F</td>\n",
       "      <td>50000</td>\n",
       "      <td>NS</td>\n",
       "      <td>very low risk</td>\n",
       "      <td>Urban</td>\n",
       "      <td>1</td>\n",
       "      <td>Telemarketer</td>\n",
       "      <td>NaN</td>\n",
       "      <td>NaN</td>\n",
       "      <td>1.0</td>\n",
       "      <td>2020.0</td>\n",
       "      <td>NaN</td>\n",
       "    </tr>\n",
       "    <tr>\n",
       "      <th>3</th>\n",
       "      <td>C9QPJMIH8H9Y</td>\n",
       "      <td>T20</td>\n",
       "      <td>2001</td>\n",
       "      <td>55</td>\n",
       "      <td>F</td>\n",
       "      <td>2000000</td>\n",
       "      <td>NS</td>\n",
       "      <td>very low risk</td>\n",
       "      <td>Rural</td>\n",
       "      <td>2</td>\n",
       "      <td>Telemarketer</td>\n",
       "      <td>NaN</td>\n",
       "      <td>NaN</td>\n",
       "      <td>1.0</td>\n",
       "      <td>2020.0</td>\n",
       "      <td>NaN</td>\n",
       "    </tr>\n",
       "    <tr>\n",
       "      <th>4</th>\n",
       "      <td>2C1HL2XQOWME</td>\n",
       "      <td>T20</td>\n",
       "      <td>2001</td>\n",
       "      <td>39</td>\n",
       "      <td>F</td>\n",
       "      <td>250000</td>\n",
       "      <td>NS</td>\n",
       "      <td>moderate risk</td>\n",
       "      <td>Urban</td>\n",
       "      <td>6</td>\n",
       "      <td>Agent</td>\n",
       "      <td>NaN</td>\n",
       "      <td>NaN</td>\n",
       "      <td>1.0</td>\n",
       "      <td>2020.0</td>\n",
       "      <td>NaN</td>\n",
       "    </tr>\n",
       "  </tbody>\n",
       "</table>\n",
       "</div>"
      ],
      "text/plain": [
       "  Policy.number Policy.type  Issue.year  Issue.age Sex  Face.amount  \\\n",
       "0  O8FN60R4KXIS         T20        2001         54   F       100000   \n",
       "1  K0JK2XD81ZNI        SPWL        2001         54   M      1000000   \n",
       "2  AH3A98MHTO8H         T20        2001         27   F        50000   \n",
       "3  C9QPJMIH8H9Y         T20        2001         55   F      2000000   \n",
       "4  2C1HL2XQOWME         T20        2001         39   F       250000   \n",
       "\n",
       "  Smoker.Status Underwriting.Class Urban.vs.Rural  Region  \\\n",
       "0            NS      moderate risk          Urban       1   \n",
       "1            NS      moderate risk          Rural       6   \n",
       "2            NS      very low risk          Urban       1   \n",
       "3            NS      very low risk          Rural       2   \n",
       "4            NS      moderate risk          Urban       6   \n",
       "\n",
       "  Distribution.Channel  Death.indicator  Year.of.Death  Lapse.Indicator  \\\n",
       "0         Telemarketer              NaN            NaN              1.0   \n",
       "1                Agent              NaN            NaN              NaN   \n",
       "2         Telemarketer              NaN            NaN              1.0   \n",
       "3         Telemarketer              NaN            NaN              1.0   \n",
       "4                Agent              NaN            NaN              1.0   \n",
       "\n",
       "   Year.of.Lapse Cause.of.Death  \n",
       "0         2020.0            NaN  \n",
       "1            NaN            NaN  \n",
       "2         2020.0            NaN  \n",
       "3         2020.0            NaN  \n",
       "4         2020.0            NaN  "
      ]
     },
     "execution_count": 3,
     "metadata": {},
     "output_type": "execute_result"
    }
   ],
   "source": [
    "df.head()"
   ]
  },
  {
   "cell_type": "markdown",
   "id": "d2c31f74",
   "metadata": {},
   "source": [
    "Summarize by policy type"
   ]
  },
  {
   "cell_type": "code",
   "execution_count": 4,
   "id": "a5ac0665",
   "metadata": {},
   "outputs": [
    {
     "name": "stdout",
     "output_type": "stream",
     "text": [
      "Count for T20: 124635\n",
      "Count for SPWL: 40012\n"
     ]
    }
   ],
   "source": [
    "policy_type_counts = df['Policy.type'].value_counts()\n",
    "\n",
    "t20_count = policy_type_counts.get('T20', 0) \n",
    "spwl_count = policy_type_counts.get('SPWL', 0) \n",
    "\n",
    "print(f\"Count for T20: {t20_count}\")\n",
    "print(f\"Count for SPWL: {spwl_count}\")\n"
   ]
  },
  {
   "cell_type": "markdown",
   "id": "69cec39d",
   "metadata": {},
   "source": [
    "Summarize by policy type and smoker status"
   ]
  },
  {
   "cell_type": "code",
   "execution_count": 5,
   "id": "ede41342",
   "metadata": {},
   "outputs": [
    {
     "name": "stdout",
     "output_type": "stream",
     "text": [
      "  Policy.type Smoker.Status   Count\n",
      "0        SPWL            NS   37001\n",
      "1        SPWL             S    3011\n",
      "2         T20            NS  110353\n",
      "3         T20             S   14282\n"
     ]
    }
   ],
   "source": [
    "smoker_status_by_policy_type = df.groupby(['Policy.type', 'Smoker.Status']).size()\n",
    "smoker_status_by_policy_type_df = smoker_status_by_policy_type.reset_index(name='Count')\n",
    "print(smoker_status_by_policy_type_df)"
   ]
  },
  {
   "cell_type": "code",
   "execution_count": null,
   "id": "57ba4142",
   "metadata": {},
   "outputs": [],
   "source": []
  },
  {
   "cell_type": "code",
   "execution_count": null,
   "id": "664a8a02-1e31-498c-9831-14ae454cf867",
   "metadata": {},
   "outputs": [],
   "source": []
  }
 ],
 "metadata": {
  "kernelspec": {
   "display_name": "Python 3 (ipykernel)",
   "language": "python",
   "name": "python3"
  },
  "language_info": {
   "codemirror_mode": {
    "name": "ipython",
    "version": 3
   },
   "file_extension": ".py",
   "mimetype": "text/x-python",
   "name": "python",
   "nbconvert_exporter": "python",
   "pygments_lexer": "ipython3",
   "version": "3.12.2"
  }
 },
 "nbformat": 4,
 "nbformat_minor": 5
}
